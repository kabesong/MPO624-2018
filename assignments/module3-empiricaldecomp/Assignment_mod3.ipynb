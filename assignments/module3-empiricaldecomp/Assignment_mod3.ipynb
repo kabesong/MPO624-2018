{
 "cells": [
  {
   "cell_type": "markdown",
   "metadata": {},
   "source": [
    "<a name=\"top\"></a>\n",
    "<div style=\"width:1000 px\">\n",
    "\n",
    "<div style=\"float:right; width:98 px; height:98px;\">\n",
    "<img src=\"https://cdn.miami.edu/_assets-common/images/system/um-logo-gray-bg.png\" alt=\"Miami Logo\" style=\"height: 98px;\">\n",
    "</div>\n",
    "\n",
    "<h1>MPO 624: Assignment for Maximum Covariance Analysis (MCA, EOF-PC analysis, factor analysis)</h1>\n",
    "\n",
    "<div style=\"clear:both\"></div>\n",
    "</div>\n",
    "\n",
    "<hr style=\"height:2px;\">\n",
    "\n",
    "### Links to subsections\n",
    "1. <a href=\"#read\">Building a Matrix</a>\n",
    "1. <a href=\"#trunc\">SVD Reconstruction</a>\n",
    "1. <a href=\"#trunc\">Covariance Matricies</a>\n",
    "1. <a href=\"#trunc\">Eigen deconstruction and reconstruction</a>"
   ]
  },
  {
   "cell_type": "markdown",
   "metadata": {},
   "source": [
    "## Building a matrix"
   ]
  },
  {
   "cell_type": "code",
   "execution_count": 7,
   "metadata": {},
   "outputs": [
    {
     "name": "stdout",
     "output_type": "stream",
     "text": [
      "[[0.2275326  0.10949693]\n",
      " [0.65391627 0.79091519]\n",
      " [0.45658169 0.30943208]]\n"
     ]
    }
   ],
   "source": [
    "import numpy as np\n",
    "\n",
    "matrix1 = np.random.rand(3,2)\n",
    "print(matrix1)\n",
    "\n"
   ]
  },
  {
   "cell_type": "markdown",
   "metadata": {},
   "source": [
    "## SVD Reconstruction"
   ]
  },
  {
   "cell_type": "code",
   "execution_count": 8,
   "metadata": {},
   "outputs": [
    {
     "name": "stdout",
     "output_type": "stream",
     "text": [
      "(3, 2) (2,) (2, 2)\n",
      "[[0.2275326  0.10949693]\n",
      " [0.65391627 0.79091519]\n",
      " [0.45658169 0.30943208]]\n",
      "[[0.2275326  0.10949693]\n",
      " [0.65391627 0.79091519]\n",
      " [0.45658169 0.30943208]]\n"
     ]
    }
   ],
   "source": [
    "u, s, vh = np.linalg.svd(matrix1, full_matrices=False)\n",
    "print(u.shape, s.shape, vh.shape)\n",
    "\n",
    "np.allclose(matrix1, np.dot(u * s, vh))\n",
    "np.allclose(matrix1, np.dot(u, np.dot(np.diag(s), vh)))\n",
    "\n",
    "s[2:] = 0\n",
    "new_mat = np.dot(u, np.dot(np.diag(s), vh))\n",
    "print(new_mat)\n",
    "print(matrix1)\n"
   ]
  },
  {
   "cell_type": "markdown",
   "metadata": {},
   "source": [
    "## Covariance Matricies"
   ]
  },
  {
   "cell_type": "code",
   "execution_count": 11,
   "metadata": {},
   "outputs": [
    {
     "name": "stdout",
     "output_type": "stream",
     "text": [
      "[[0.68784441 0.68338746]\n",
      " [0.68338746 0.73328463]]\n",
      "[[0.06376066 0.23539006 0.13776908]\n",
      " [0.23539006 1.05315333 0.54330073]\n",
      " [0.13776908 0.54330073 0.30421505]]\n"
     ]
    }
   ],
   "source": [
    "two_b2= np.dot(np.transpose(matrix1), matrix1)\n",
    "\n",
    "three_b3 = np.dot(matrix1, np.transpose(matrix1))\n",
    "\n",
    "print(two_b2) \n",
    "print(three_b3)\n"
   ]
  },
  {
   "cell_type": "markdown",
   "metadata": {},
   "source": [
    "## Eigen deconstruction and reconstruction"
   ]
  },
  {
   "cell_type": "code",
   "execution_count": 26,
   "metadata": {},
   "outputs": [
    {
     "name": "stdout",
     "output_type": "stream",
     "text": [
      "[[0.68784441 0.68338746]\n",
      " [0.68338746 0.73328463]]\n",
      "[[0.68784441 0.68338746]\n",
      " [0.68338746 0.73328463]]\n",
      "[[0.06376066 0.23539006 0.13776908]\n",
      " [0.23539006 1.05315333 0.54330073]\n",
      " [0.13776908 0.54330073 0.30421505]]\n",
      "[[0.06376066 0.23539006 0.13776908]\n",
      " [0.23539006 1.05315333 0.54330073]\n",
      " [0.13776908 0.54330073 0.30421505]]\n"
     ]
    }
   ],
   "source": [
    "two_evals, two_evects = np.linalg.eig(two_b2)\n",
    "#print(two_evals, two_evects)\n",
    "\n",
    "two_b_recon2 = np.dot(two_evects, np.dot(np.diag(two_evals), np.transpose(two_evects)))\n",
    "print(two_b_recon2)\n",
    "print(two_b2)\n",
    "\n",
    "three_evals, three_evects = np.linalg.eig(three_b3)\n",
    "#print(two_evals, two_evects)\n",
    "\n",
    "three_b_recon3 = np.dot(three_evects, np.dot(np.diag(three_evals), np.transpose(three_evects)))\n",
    "print(three_b_recon3)\n",
    "print(three_b3)\n"
   ]
  },
  {
   "cell_type": "markdown",
   "metadata": {},
   "source": [
    "### The reconstruction of the data set is unable to be computed after Eigen Decomposition for it is a form of SVD specific to square matricies. Because the original matrix is 3x2, we cannot reconstruct the original dataset (matrix1), however the covariance matrices are able to be reconstructed."
   ]
  }
 ],
 "metadata": {
  "kernelspec": {
   "display_name": "Python 3",
   "language": "python",
   "name": "python3"
  },
  "language_info": {
   "codemirror_mode": {
    "name": "ipython",
    "version": 3
   },
   "file_extension": ".py",
   "mimetype": "text/x-python",
   "name": "python",
   "nbconvert_exporter": "python",
   "pygments_lexer": "ipython3",
   "version": "3.6.5"
  }
 },
 "nbformat": 4,
 "nbformat_minor": 2
}
