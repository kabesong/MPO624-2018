{
 "cells": [
  {
   "cell_type": "markdown",
   "metadata": {},
   "source": [
    "<a name=\"top\"></a>\n",
    "<div style=\"width:1000 px\">\n",
    "\n",
    "<div style=\"float:right; width:98 px; height:98px;\">\n",
    "<img src=\"https://cdn.miami.edu/_assets-common/images/system/um-logo-gray-bg.png\" alt=\"Miami Logo\" style=\"height: 98px;\">\n",
    "</div>\n",
    "\n",
    "<h1>MPO 624: Final Project</h1>\n",
    "\n",
    "<div style=\"clear:both\"></div>\n",
    "</div>\n",
    "\n",
    "<hr style=\"height:2px;\">\n",
    "\n",
    "### Links to subsections\n",
    "1. <a href=\"#xarray\">xarray</a>\n",
    "1. <a href=\"#netcdf4\">netCDF4</a>\n",
    "1. <a href=\"#opendap\">OpenDAP: from a URL not a file</a>\n",
    "1. <a href=\"#graball\">either way, grab all variables</a>\n",
    "1. <a href=\"#whos\">see all variables in memory</a>\n"
   ]
  },
  {
   "cell_type": "code",
   "execution_count": 9,
   "metadata": {},
   "outputs": [
    {
     "data": {
      "text/plain": [
       "<xarray.Dataset>\n",
       "Dimensions:    (lat: 91, lon: 180, nbnds: 2, time: 1968)\n",
       "Coordinates:\n",
       "  * lat        (lat) float32 90.0 88.0 86.0 84.0 82.0 80.0 78.0 76.0 74.0 ...\n",
       "  * lon        (lon) float32 0.0 2.0 4.0 6.0 8.0 10.0 12.0 14.0 16.0 18.0 ...\n",
       "  * time       (time) datetime64[ns] 1851-01-01 1851-02-01 1851-03-01 ...\n",
       "Dimensions without coordinates: nbnds\n",
       "Data variables:\n",
       "    time_bnds  (time, nbnds) float64 ...\n",
       "    pres       (time, lat, lon) float32 ...\n",
       "Attributes:\n",
       "    Conventions:                     CF-1.2\n",
       "    title:                           Monthly NOAA-CIRES 20th Century Reanalys...\n",
       "    comments:                        Data is from \\nNOAA-CIRES 20th Century R...\n",
       "    platform:                        Model\n",
       "    institution:                     NOAA ESRL Physical Sciences Division & C...\n",
       "    version:                         2c\n",
       "    history:                         created 2015/03 by Hoop (chunked, deflat...\n",
       "    contact:                         esrl.psd.data@noaa.gov\n",
       "    source:                          20CRv2c 2014, Ensemble Kalman Filter, oc...\n",
       "    name_of_model_used:              ensda_v351\n",
       "    creation_date:                   2014-06-13T18:30:07Z\n",
       "    product:                         reanalysis\n",
       "    observations:                    International Surface Pressure Databank ...\n",
       "    assimilation_algorithm:          Ensemble Kalman Filter\n",
       "    forcing:                         CO2, Sl, Vl, SST, 0z (0z is prognostic, ...\n",
       "    dataset_title:                   NOAA-CIRES 20th Century Reanalysis (V2c)\n",
       "    References:                      https://www.esrl.noaa.gov/psd/data/gridd...\n",
       "    forcing_note:                    Additional information on the external f...\n",
       "    citation:                        Compo,G.P. <https://www.esrl.noaa.gov/ps...\n",
       "    DODS_EXTRA.Unlimited_Dimension:  time"
      ]
     },
     "execution_count": 9,
     "metadata": {},
     "output_type": "execute_result"
    }
   ],
   "source": [
    "import xarray as xr \n",
    "\n",
    "#datafile = xr.open_dataset('../Eq_timelon_sections.nc', decode_times=False)\n",
    "# Works for a URL too\n",
    "datafile2 = xr.open_dataset('https://www.esrl.noaa.gov/psd/thredds/dodsC/Datasets/20thC_ReanV2c/Monthlies/monolevel/pres.sfc.mon.mean.nc')\n",
    "\n",
    "#datafile\n",
    "\n",
    "datafile2"
   ]
  },
  {
   "cell_type": "code",
   "execution_count": null,
   "metadata": {},
   "outputs": [],
   "source": []
  }
 ],
 "metadata": {
  "kernelspec": {
   "display_name": "Python 3",
   "language": "python",
   "name": "python3"
  },
  "language_info": {
   "codemirror_mode": {
    "name": "ipython",
    "version": 3
   },
   "file_extension": ".py",
   "mimetype": "text/x-python",
   "name": "python",
   "nbconvert_exporter": "python",
   "pygments_lexer": "ipython3",
   "version": "3.6.5"
  }
 },
 "nbformat": 4,
 "nbformat_minor": 2
}
