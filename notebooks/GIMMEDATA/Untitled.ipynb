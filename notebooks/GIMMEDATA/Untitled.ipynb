{
 "cells": [
  {
   "cell_type": "markdown",
   "metadata": {},
   "source": [
    "<a name=\"top\"></a>\n",
    "<div style=\"width:1000 px\">\n",
    "\n",
    "<div style=\"float:right; width:98 px; height:98px;\">\n",
    "<img src=\"https://cdn.miami.edu/_assets-common/images/system/um-logo-gray-bg.png\" alt=\"Miami Logo\" style=\"height: 98px;\">\n",
    "</div>\n",
    "\n",
    "<h1>MPO 624: Final Project</h1>\n",
    "\n",
    "<div style=\"clear:both\"></div>\n",
    "</div>\n",
    "\n",
    "<hr style=\"height:2px;\">\n",
    "\n",
    "### Links to subsections\n",
    "1. <a href=\"#xarray\">xarray</a>\n",
    "1. <a href=\"#netcdf4\">netCDF4</a>\n",
    "1. <a href=\"#opendap\">OpenDAP: from a URL not a file</a>\n",
    "1. <a href=\"#graball\">either way, grab all variables</a>\n",
    "1. <a href=\"#whos\">see all variables in memory</a>\n"
   ]
  },
  {
   "cell_type": "code",
   "execution_count": 3,
   "metadata": {},
   "outputs": [
    {
     "data": {
      "text/plain": [
       "<xarray.Dataset>\n",
       "Dimensions:  (lat: 73, level: 17, lon: 144, time: 1460)\n",
       "Coordinates:\n",
       "  * level    (level) float32 1000.0 925.0 850.0 700.0 600.0 500.0 400.0 ...\n",
       "  * lon      (lon) float32 0.0 2.5 5.0 7.5 10.0 12.5 15.0 17.5 20.0 22.5 ...\n",
       "  * lat      (lat) float32 90.0 87.5 85.0 82.5 80.0 77.5 75.0 72.5 70.0 67.5 ...\n",
       "  * time     (time) datetime64[ns] 1969-01-01 1969-01-01T06:00:00 ...\n",
       "Data variables:\n",
       "    hgt      (time, level, lat, lon) float32 ...\n",
       "Attributes:\n",
       "    References:                      http://www.esrl.noaa.gov/psd/data/gridde...\n",
       "    dataset_title:                   NCEP-NCAR Reanalysis 1\n",
       "    Conventions:                     COARDS\n",
       "    title:                           4x daily NMC Reanalysis (1969)\n",
       "    description:                     Data is from NMC initialized reanalysis\\...\n",
       "    platform:                        Model\n",
       "    history:                         created 97/08/19 by Hoop (netCDF2.3)\\nCo...\n",
       "    DODS_EXTRA.Unlimited_Dimension:  time"
      ]
     },
     "execution_count": 3,
     "metadata": {},
     "output_type": "execute_result"
    }
   ],
   "source": [
    "import xarray as xr \n",
    "\n",
    "#datafile = xr.open_dataset('../Eq_timelon_sections.nc', decode_times=False)\n",
    "# Works for a URL too\n",
    "datafile2 = xr.open_dataset('http://www.esrl.noaa.gov/psd/thredds/dodsC/Datasets/ncep.reanalysis/pressure/hgt.1969.nc')\n",
    "\n",
    "\n",
    "\n",
    "#datafile\n",
    "\n",
    "datafile2"
   ]
  },
  {
   "cell_type": "code",
   "execution_count": null,
   "metadata": {},
   "outputs": [],
   "source": []
  }
 ],
 "metadata": {
  "kernelspec": {
   "display_name": "Python 3",
   "language": "python",
   "name": "python3"
  },
  "language_info": {
   "codemirror_mode": {
    "name": "ipython",
    "version": 3
   },
   "file_extension": ".py",
   "mimetype": "text/x-python",
   "name": "python",
   "nbconvert_exporter": "python",
   "pygments_lexer": "ipython3",
   "version": "3.6.5"
  }
 },
 "nbformat": 4,
 "nbformat_minor": 2
}
