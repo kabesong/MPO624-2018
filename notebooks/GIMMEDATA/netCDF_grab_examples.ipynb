{
 "cells": [
  {
   "cell_type": "markdown",
   "metadata": {},
   "source": [
    "<a name=\"top\"></a>\n",
    "<div style=\"width:1000 px\">\n",
    "\n",
    "<div style=\"float:right; width:98 px; height:98px;\">\n",
    "<img src=\"https://cdn.miami.edu/_assets-common/images/system/um-logo-gray-bg.png\" alt=\"Miami Logo\" style=\"height: 98px;\">\n",
    "</div>\n",
    "\n",
    "<h1>MPO 624: NetCDF data grabbing strategies</h1>\n",
    "\n",
    "<div style=\"clear:both\"></div>\n",
    "</div>\n",
    "\n",
    "<hr style=\"height:2px;\">\n",
    "\n",
    "### Links to subsections\n",
    "1. <a href=\"#xarray\">xarray</a>\n",
    "1. <a href=\"#netcdf4\">netCDF4</a>\n",
    "1. <a href=\"#opendap\">OpenDAP: from a URL not a file</a>\n",
    "1. <a href=\"#graball\">either way, grab all variables</a>\n",
    "1. <a href=\"#whos\">see all variables in memory</a>\n"
   ]
  },
  {
   "cell_type": "markdown",
   "metadata": {},
   "source": [
    "<a name=\"xarray\"></a>\n",
    "### Use xarray to import dataset"
   ]
  },
  {
   "cell_type": "code",
   "execution_count": 16,
   "metadata": {},
   "outputs": [
    {
     "data": {
      "text/plain": [
       "<xarray.Dataset>\n",
       "Dimensions:    (lat: 180, lon: 360, nbnds: 2, time: 435)\n",
       "Coordinates:\n",
       "  * lat        (lat) float32 89.5 88.5 87.5 86.5 85.5 84.5 83.5 82.5 81.5 ...\n",
       "  * lon        (lon) float32 0.5 1.5 2.5 3.5 4.5 5.5 6.5 7.5 8.5 9.5 10.5 ...\n",
       "  * time       (time) datetime64[ns] 1981-12-01 1982-01-01 1982-02-01 ...\n",
       "Dimensions without coordinates: nbnds\n",
       "Data variables:\n",
       "    time_bnds  (time, nbnds) float64 ...\n",
       "    sst        (time, lat, lon) float32 ...\n",
       "Attributes:\n",
       "    title:                           NOAA Optimum Interpolation (OI) SST V2\n",
       "    Conventions:                     CF-1.0\n",
       "    history:                         Wed Apr  6 13:47:45 2005: ncks -d time,0...\n",
       "    comments:                        Data described in  Reynolds, R.W., N.A. ...\n",
       "    platform:                        Model\n",
       "    source:                          NCEP Climate Modeling Branch\n",
       "    institution:                     National Centers for Environmental Predi...\n",
       "    References:                      https://www.esrl.noaa.gov/psd/data/gridd...\n",
       "    dataset_title:                   NOAA Optimum Interpolation (OI) SST V2\n",
       "    source_url:                      http://www.emc.ncep.noaa.gov/research/cm...\n",
       "    DODS_EXTRA.Unlimited_Dimension:  time"
      ]
     },
     "execution_count": 16,
     "metadata": {},
     "output_type": "execute_result"
    }
   ],
   "source": [
    "import xarray as xr \n",
    "\n",
    "datafile = xr.open_dataset('../Eq_timelon_sections.nc', decode_times=False)\n",
    "# Works for a URL too\n",
    "#datafile = xr.open_dataset('https://www.esrl.noaa.gov/psd/thredds/dodsC/Datasets/noaa.oisst.v2/sst.mnmean.nc')\n",
    "\n",
    "datafile"
   ]
  },
  {
   "cell_type": "markdown",
   "metadata": {},
   "source": [
    "<a name=\"netcdf4\"></a>\n",
    "### Use netCDF4 to import dataset"
   ]
  },
  {
   "cell_type": "code",
   "execution_count": 12,
   "metadata": {
    "collapsed": true
   },
   "outputs": [
    {
     "data": {
      "text/plain": [
       "<class 'netCDF4._netCDF4.Dataset'>\n",
       "root group (NETCDF3_CLASSIC data model, file format NETCDF3):\n",
       "    dimensions(sizes): lon(144), time(240)\n",
       "    variables(dimensions): float32 \u001b[4mlon\u001b[0m(lon), float32 \u001b[4mtime\u001b[0m(time), float32 \u001b[4molr\u001b[0m(time,lon), float32 \u001b[4mprecip\u001b[0m(time,lon), float32 \u001b[4mslp\u001b[0m(time,lon), float32 \u001b[4msst\u001b[0m(time,lon), float32 \u001b[4muwnd\u001b[0m(time,lon)\n",
       "    groups: "
      ]
     },
     "execution_count": 12,
     "metadata": {},
     "output_type": "execute_result"
    }
   ],
   "source": [
    "from netCDF4 import Dataset\n",
    "datafile = Dataset('../Eq_timelon_sections.nc')\n",
    "datafile"
   ]
  },
  {
   "cell_type": "markdown",
   "metadata": {},
   "source": [
    "<a name=\"opendap\"></a>\n",
    "### From a URL instead of a local file (OpenDAP)"
   ]
  },
  {
   "cell_type": "code",
   "execution_count": 1,
   "metadata": {},
   "outputs": [
    {
     "data": {
      "text/plain": [
       "<xarray.Dataset>\n",
       "Dimensions:  (lat: 73, level: 17, lon: 144, time: 1460)\n",
       "Coordinates:\n",
       "  * level    (level) float32 1000.0 925.0 850.0 700.0 600.0 500.0 400.0 ...\n",
       "  * lon      (lon) float32 0.0 2.5 5.0 7.5 10.0 12.5 15.0 17.5 20.0 22.5 ...\n",
       "  * lat      (lat) float32 90.0 87.5 85.0 82.5 80.0 77.5 75.0 72.5 70.0 67.5 ...\n",
       "  * time     (time) datetime64[ns] 1969-01-01 1969-01-01T06:00:00 ...\n",
       "Data variables:\n",
       "    hgt      (time, level, lat, lon) float32 ...\n",
       "Attributes:\n",
       "    References:                      http://www.esrl.noaa.gov/psd/data/gridde...\n",
       "    dataset_title:                   NCEP-NCAR Reanalysis 1\n",
       "    Conventions:                     COARDS\n",
       "    title:                           4x daily NMC Reanalysis (1969)\n",
       "    description:                     Data is from NMC initialized reanalysis\\...\n",
       "    platform:                        Model\n",
       "    history:                         created 97/08/19 by Hoop (netCDF2.3)\\nCo...\n",
       "    DODS_EXTRA.Unlimited_Dimension:  time"
      ]
     },
     "execution_count": 1,
     "metadata": {},
     "output_type": "execute_result"
    }
   ],
   "source": [
    "import xarray as xr \n",
    "datafile = xr.open_dataset('http://www.esrl.noaa.gov/psd/thredds/dodsC/Datasets/ncep.reanalysis/pressure/hgt.1969.nc')\n",
    "\n",
    "\n",
    "datafile"
   ]
  },
  {
   "cell_type": "markdown",
   "metadata": {},
   "source": [
    "<a name=\"graball\"></a>\n",
    "### Grab all variables from dataset"
   ]
  },
  {
   "cell_type": "code",
   "execution_count": 3,
   "metadata": {},
   "outputs": [
    {
     "name": "stdout",
     "output_type": "stream",
     "text": [
      "level=datafile['level'][:].squeeze()\n",
      "lon=datafile['lon'][:].squeeze()\n",
      "lat=datafile['lat'][:].squeeze()\n",
      "time=datafile['time'][:].squeeze()\n",
      "hgt=datafile['hgt'][:].squeeze()\n"
     ]
    }
   ],
   "source": [
    "# Trick: a loop over all keys, building a command string. \n",
    "# Then, execute that command string!\n",
    "\n",
    "for key in datafile.variables.keys(): \n",
    "    print( key +\"=datafile['\"+key+\"'][:].squeeze()\") # to show the command\n",
    "    exec( key +\"=datafile['\"+key+\"'][:].squeeze()\")"
   ]
  },
  {
   "cell_type": "markdown",
   "metadata": {},
   "source": [
    "<a name=\"whos\"></a>\n",
    "### See all variables in memory"
   ]
  },
  {
   "cell_type": "code",
   "execution_count": 4,
   "metadata": {},
   "outputs": [
    {
     "name": "stdout",
     "output_type": "stream",
     "text": [
      "Variable   Type         Data/Info\n",
      "---------------------------------\n",
      "datafile   Dataset      <xarray.Dataset>\\nDimensi<...>nlimited_Dimension:  time\n",
      "hgt        DataArray    <xarray.DataArray 'hgt' (<...>izes:   [  1   1  73 144]\n",
      "key        str          hgt\n",
      "lat        DataArray    <xarray.DataArray 'lat' (<...>de\\n    axis:           Y\n",
      "level      DataArray    <xarray.DataArray 'level'<...>hPa\\n    axis:          Z\n",
      "lon        DataArray    <xarray.DataArray 'lon' (<...>de\\n    axis:           X\n",
      "time       DataArray    <xarray.DataArray 'time' <...>.]\\n    _ChunkSizes:    1\n",
      "xr         module       <module 'xarray' from '/U<...>ages/xarray/__init__.py'>\n"
     ]
    }
   ],
   "source": [
    "whos"
   ]
  },
  {
   "cell_type": "code",
   "execution_count": 5,
   "metadata": {},
   "outputs": [
    {
     "data": {
      "text/plain": [
       "<xarray.DataArray 'time' (time: 1460)>\n",
       "array(['1969-01-01T00:00:00.000000000', '1969-01-01T06:00:00.000000000',\n",
       "       '1969-01-01T12:00:00.000000000', ..., '1969-12-31T06:00:00.000000000',\n",
       "       '1969-12-31T12:00:00.000000000', '1969-12-31T18:00:00.000000000'],\n",
       "      dtype='datetime64[ns]')\n",
       "Coordinates:\n",
       "  * time     (time) datetime64[ns] 1969-01-01 1969-01-01T06:00:00 ...\n",
       "Attributes:\n",
       "    long_name:      Time\n",
       "    delta_t:        0000-00-00 06:00:00\n",
       "    standard_name:  time\n",
       "    axis:           T\n",
       "    actual_range:   [1481424. 1490178.]\n",
       "    _ChunkSizes:    1"
      ]
     },
     "execution_count": 5,
     "metadata": {},
     "output_type": "execute_result"
    }
   ],
   "source": [
    "time"
   ]
  },
  {
   "cell_type": "code",
   "execution_count": null,
   "metadata": {},
   "outputs": [],
   "source": []
  }
 ],
 "metadata": {
  "kernelspec": {
   "display_name": "Python 3",
   "language": "python",
   "name": "python3"
  },
  "language_info": {
   "codemirror_mode": {
    "name": "ipython",
    "version": 3
   },
   "file_extension": ".py",
   "mimetype": "text/x-python",
   "name": "python",
   "nbconvert_exporter": "python",
   "pygments_lexer": "ipython3",
   "version": "3.6.5"
  }
 },
 "nbformat": 4,
 "nbformat_minor": 2
}
